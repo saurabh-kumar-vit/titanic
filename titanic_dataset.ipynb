{
 "cells": [
  {
   "cell_type": "markdown",
   "metadata": {},
   "source": [
    "# Predicting Survival On The Titanic\n",
    "\n",
    "This is a very interesting dataset hosted on kaggle. The dataset contains details about the passengers aboard the titanic and we need to use these features to predict whether the passenger survived or not. This dataset is difficult to model as the data is very noisy. Most of the data is missing and some of the features don't really tell us anything about the passenger's survival rate. This calls for very rigorous analysis and feature engineering "
   ]
  },
  {
   "cell_type": "markdown",
   "metadata": {},
   "source": [
    "## Load the libraires"
   ]
  },
  {
   "cell_type": "code",
   "execution_count": 2,
   "metadata": {
    "collapsed": true
   },
   "outputs": [],
   "source": [
    "import numpy as np\n",
    "import matplotlib.pyplot as plt\n",
    "import pandas as pd\n",
    "from pandas import read_csv\n",
    "from pandas import set_option\n",
    "from pandas.tools.plotting import scatter_matrix\n",
    "from sklearn.preprocessing import StandardScaler\n",
    "from sklearn.preprocessing import MinMaxScaler\n",
    "from sklearn.preprocessing import LabelEncoder\n",
    "from sklearn.model_selection import train_test_split\n",
    "from sklearn.model_selection import KFold\n",
    "from sklearn.model_selection import cross_val_score\n",
    "from sklearn.model_selection import GridSearchCV\n",
    "from sklearn.metrics import classification_report\n",
    "from sklearn.metrics import confusion_matrix\n",
    "from sklearn.metrics import accuracy_score\n",
    "from sklearn.pipeline import Pipeline\n",
    "from sklearn.linear_model import LogisticRegression\n",
    "from sklearn.tree import DecisionTreeClassifier\n",
    "from sklearn.neighbors import KNeighborsClassifier\n",
    "from sklearn.discriminant_analysis import LinearDiscriminantAnalysis\n",
    "from sklearn.naive_bayes import GaussianNB\n",
    "from sklearn.svm import SVC\n",
    "from sklearn.ensemble import AdaBoostClassifier\n",
    "from sklearn.ensemble import GradientBoostingClassifier\n",
    "from sklearn.ensemble import RandomForestClassifier\n",
    "from sklearn.ensemble import ExtraTreesClassifier\n",
    "from sklearn.decomposition import PCA\n",
    "from sklearn.feature_selection import SelectKBest\n",
    "from sklearn.feature_selection import chi2"
   ]
  },
  {
   "cell_type": "markdown",
   "metadata": {},
   "source": [
    "## Load the data"
   ]
  },
  {
   "cell_type": "code",
   "execution_count": 3,
   "metadata": {
    "collapsed": true
   },
   "outputs": [],
   "source": [
    "testFilename = './data/test.csv'\n",
    "trainFilename = './data/train.csv'\n",
    "\n",
    "testData = read_csv(testFilename)\n",
    "dataset = read_csv(trainFilename)"
   ]
  },
  {
   "cell_type": "markdown",
   "metadata": {},
   "source": [
    "## Analysing and visualizations "
   ]
  },
  {
   "cell_type": "markdown",
   "metadata": {},
   "source": [
    "let's take a peek at what the dataset looks like.  We see that the dataset contains 11 features. We can also that the dataset does contain missing values which are evident from the NaN visible in the Cabin feature.\n",
    "\n",
    "Dealing with missing values can be difficult. Some machine learning models like Logistic regression don't handle missing values well and result in poor performance. While others like Tree-based models can be quite robust towards them.\n",
    "\n",
    "The strategy for dealing with missing values depends on the nature or reason of why the values are missing. Missing values can be broadly classified as.\n",
    "1. *The missing values can be treated as information* - In some cases, the fact that a value missing holds a lot of information. For example, in a dataset which classifies people on whether they are likely to contract a disease based on their living conditions, then if the salary feature contains missing values may mean that the person doesn't earn or it was not possible to record his salary. This missing value will help in better classifying people of this category.\n",
    "\n",
    "2. *The values are missing at random but the feature is important* - The best way to deal with such features is to impute the missing values using the mean, median or just predict it using simple ML.\n",
    "\n",
    "3. *The feature is mostly noise and holds very low information* - These features require a lot of feature engineering to make good use of them. Probably the best way to deal with them is to drop them."
   ]
  },
  {
   "cell_type": "code",
   "execution_count": 4,
   "metadata": {
    "collapsed": false
   },
   "outputs": [
    {
     "data": {
      "text/html": [
       "<div>\n",
       "<table border=\"1\" class=\"dataframe\">\n",
       "  <thead>\n",
       "    <tr style=\"text-align: right;\">\n",
       "      <th></th>\n",
       "      <th>PassengerId</th>\n",
       "      <th>Pclass</th>\n",
       "      <th>Name</th>\n",
       "      <th>Sex</th>\n",
       "      <th>Age</th>\n",
       "      <th>SibSp</th>\n",
       "      <th>Parch</th>\n",
       "      <th>Ticket</th>\n",
       "      <th>Fare</th>\n",
       "      <th>Cabin</th>\n",
       "      <th>Embarked</th>\n",
       "    </tr>\n",
       "  </thead>\n",
       "  <tbody>\n",
       "    <tr>\n",
       "      <th>0</th>\n",
       "      <td>892</td>\n",
       "      <td>3</td>\n",
       "      <td>Kelly, Mr. James</td>\n",
       "      <td>male</td>\n",
       "      <td>34.5</td>\n",
       "      <td>0</td>\n",
       "      <td>0</td>\n",
       "      <td>330911</td>\n",
       "      <td>7.8292</td>\n",
       "      <td>NaN</td>\n",
       "      <td>Q</td>\n",
       "    </tr>\n",
       "    <tr>\n",
       "      <th>1</th>\n",
       "      <td>893</td>\n",
       "      <td>3</td>\n",
       "      <td>Wilkes, Mrs. James (Ellen Needs)</td>\n",
       "      <td>female</td>\n",
       "      <td>47.0</td>\n",
       "      <td>1</td>\n",
       "      <td>0</td>\n",
       "      <td>363272</td>\n",
       "      <td>7.0000</td>\n",
       "      <td>NaN</td>\n",
       "      <td>S</td>\n",
       "    </tr>\n",
       "    <tr>\n",
       "      <th>2</th>\n",
       "      <td>894</td>\n",
       "      <td>2</td>\n",
       "      <td>Myles, Mr. Thomas Francis</td>\n",
       "      <td>male</td>\n",
       "      <td>62.0</td>\n",
       "      <td>0</td>\n",
       "      <td>0</td>\n",
       "      <td>240276</td>\n",
       "      <td>9.6875</td>\n",
       "      <td>NaN</td>\n",
       "      <td>Q</td>\n",
       "    </tr>\n",
       "    <tr>\n",
       "      <th>3</th>\n",
       "      <td>895</td>\n",
       "      <td>3</td>\n",
       "      <td>Wirz, Mr. Albert</td>\n",
       "      <td>male</td>\n",
       "      <td>27.0</td>\n",
       "      <td>0</td>\n",
       "      <td>0</td>\n",
       "      <td>315154</td>\n",
       "      <td>8.6625</td>\n",
       "      <td>NaN</td>\n",
       "      <td>S</td>\n",
       "    </tr>\n",
       "    <tr>\n",
       "      <th>4</th>\n",
       "      <td>896</td>\n",
       "      <td>3</td>\n",
       "      <td>Hirvonen, Mrs. Alexander (Helga E Lindqvist)</td>\n",
       "      <td>female</td>\n",
       "      <td>22.0</td>\n",
       "      <td>1</td>\n",
       "      <td>1</td>\n",
       "      <td>3101298</td>\n",
       "      <td>12.2875</td>\n",
       "      <td>NaN</td>\n",
       "      <td>S</td>\n",
       "    </tr>\n",
       "  </tbody>\n",
       "</table>\n",
       "</div>"
      ],
      "text/plain": [
       "   PassengerId  Pclass                                          Name     Sex  \\\n",
       "0          892       3                              Kelly, Mr. James    male   \n",
       "1          893       3              Wilkes, Mrs. James (Ellen Needs)  female   \n",
       "2          894       2                     Myles, Mr. Thomas Francis    male   \n",
       "3          895       3                              Wirz, Mr. Albert    male   \n",
       "4          896       3  Hirvonen, Mrs. Alexander (Helga E Lindqvist)  female   \n",
       "\n",
       "    Age  SibSp  Parch   Ticket     Fare Cabin Embarked  \n",
       "0  34.5      0      0   330911   7.8292   NaN        Q  \n",
       "1  47.0      1      0   363272   7.0000   NaN        S  \n",
       "2  62.0      0      0   240276   9.6875   NaN        Q  \n",
       "3  27.0      0      0   315154   8.6625   NaN        S  \n",
       "4  22.0      1      1  3101298  12.2875   NaN        S  "
      ]
     },
     "execution_count": 4,
     "metadata": {},
     "output_type": "execute_result"
    }
   ],
   "source": [
    "testData.head(5)"
   ]
  },
  {
   "cell_type": "code",
   "execution_count": 5,
   "metadata": {
    "collapsed": false
   },
   "outputs": [
    {
     "data": {
      "text/html": [
       "<div>\n",
       "<table border=\"1\" class=\"dataframe\">\n",
       "  <thead>\n",
       "    <tr style=\"text-align: right;\">\n",
       "      <th></th>\n",
       "      <th>PassengerId</th>\n",
       "      <th>Survived</th>\n",
       "      <th>Pclass</th>\n",
       "      <th>Name</th>\n",
       "      <th>Sex</th>\n",
       "      <th>Age</th>\n",
       "      <th>SibSp</th>\n",
       "      <th>Parch</th>\n",
       "      <th>Ticket</th>\n",
       "      <th>Fare</th>\n",
       "      <th>Cabin</th>\n",
       "      <th>Embarked</th>\n",
       "    </tr>\n",
       "  </thead>\n",
       "  <tbody>\n",
       "    <tr>\n",
       "      <th>0</th>\n",
       "      <td>1</td>\n",
       "      <td>0</td>\n",
       "      <td>3</td>\n",
       "      <td>Braund, Mr. Owen Harris</td>\n",
       "      <td>male</td>\n",
       "      <td>22.0</td>\n",
       "      <td>1</td>\n",
       "      <td>0</td>\n",
       "      <td>A/5 21171</td>\n",
       "      <td>7.2500</td>\n",
       "      <td>NaN</td>\n",
       "      <td>S</td>\n",
       "    </tr>\n",
       "    <tr>\n",
       "      <th>1</th>\n",
       "      <td>2</td>\n",
       "      <td>1</td>\n",
       "      <td>1</td>\n",
       "      <td>Cumings, Mrs. John Bradley (Florence Briggs Th...</td>\n",
       "      <td>female</td>\n",
       "      <td>38.0</td>\n",
       "      <td>1</td>\n",
       "      <td>0</td>\n",
       "      <td>PC 17599</td>\n",
       "      <td>71.2833</td>\n",
       "      <td>C85</td>\n",
       "      <td>C</td>\n",
       "    </tr>\n",
       "    <tr>\n",
       "      <th>2</th>\n",
       "      <td>3</td>\n",
       "      <td>1</td>\n",
       "      <td>3</td>\n",
       "      <td>Heikkinen, Miss. Laina</td>\n",
       "      <td>female</td>\n",
       "      <td>26.0</td>\n",
       "      <td>0</td>\n",
       "      <td>0</td>\n",
       "      <td>STON/O2. 3101282</td>\n",
       "      <td>7.9250</td>\n",
       "      <td>NaN</td>\n",
       "      <td>S</td>\n",
       "    </tr>\n",
       "    <tr>\n",
       "      <th>3</th>\n",
       "      <td>4</td>\n",
       "      <td>1</td>\n",
       "      <td>1</td>\n",
       "      <td>Futrelle, Mrs. Jacques Heath (Lily May Peel)</td>\n",
       "      <td>female</td>\n",
       "      <td>35.0</td>\n",
       "      <td>1</td>\n",
       "      <td>0</td>\n",
       "      <td>113803</td>\n",
       "      <td>53.1000</td>\n",
       "      <td>C123</td>\n",
       "      <td>S</td>\n",
       "    </tr>\n",
       "    <tr>\n",
       "      <th>4</th>\n",
       "      <td>5</td>\n",
       "      <td>0</td>\n",
       "      <td>3</td>\n",
       "      <td>Allen, Mr. William Henry</td>\n",
       "      <td>male</td>\n",
       "      <td>35.0</td>\n",
       "      <td>0</td>\n",
       "      <td>0</td>\n",
       "      <td>373450</td>\n",
       "      <td>8.0500</td>\n",
       "      <td>NaN</td>\n",
       "      <td>S</td>\n",
       "    </tr>\n",
       "    <tr>\n",
       "      <th>5</th>\n",
       "      <td>6</td>\n",
       "      <td>0</td>\n",
       "      <td>3</td>\n",
       "      <td>Moran, Mr. James</td>\n",
       "      <td>male</td>\n",
       "      <td>NaN</td>\n",
       "      <td>0</td>\n",
       "      <td>0</td>\n",
       "      <td>330877</td>\n",
       "      <td>8.4583</td>\n",
       "      <td>NaN</td>\n",
       "      <td>Q</td>\n",
       "    </tr>\n",
       "    <tr>\n",
       "      <th>6</th>\n",
       "      <td>7</td>\n",
       "      <td>0</td>\n",
       "      <td>1</td>\n",
       "      <td>McCarthy, Mr. Timothy J</td>\n",
       "      <td>male</td>\n",
       "      <td>54.0</td>\n",
       "      <td>0</td>\n",
       "      <td>0</td>\n",
       "      <td>17463</td>\n",
       "      <td>51.8625</td>\n",
       "      <td>E46</td>\n",
       "      <td>S</td>\n",
       "    </tr>\n",
       "    <tr>\n",
       "      <th>7</th>\n",
       "      <td>8</td>\n",
       "      <td>0</td>\n",
       "      <td>3</td>\n",
       "      <td>Palsson, Master. Gosta Leonard</td>\n",
       "      <td>male</td>\n",
       "      <td>2.0</td>\n",
       "      <td>3</td>\n",
       "      <td>1</td>\n",
       "      <td>349909</td>\n",
       "      <td>21.0750</td>\n",
       "      <td>NaN</td>\n",
       "      <td>S</td>\n",
       "    </tr>\n",
       "    <tr>\n",
       "      <th>8</th>\n",
       "      <td>9</td>\n",
       "      <td>1</td>\n",
       "      <td>3</td>\n",
       "      <td>Johnson, Mrs. Oscar W (Elisabeth Vilhelmina Berg)</td>\n",
       "      <td>female</td>\n",
       "      <td>27.0</td>\n",
       "      <td>0</td>\n",
       "      <td>2</td>\n",
       "      <td>347742</td>\n",
       "      <td>11.1333</td>\n",
       "      <td>NaN</td>\n",
       "      <td>S</td>\n",
       "    </tr>\n",
       "    <tr>\n",
       "      <th>9</th>\n",
       "      <td>10</td>\n",
       "      <td>1</td>\n",
       "      <td>2</td>\n",
       "      <td>Nasser, Mrs. Nicholas (Adele Achem)</td>\n",
       "      <td>female</td>\n",
       "      <td>14.0</td>\n",
       "      <td>1</td>\n",
       "      <td>0</td>\n",
       "      <td>237736</td>\n",
       "      <td>30.0708</td>\n",
       "      <td>NaN</td>\n",
       "      <td>C</td>\n",
       "    </tr>\n",
       "  </tbody>\n",
       "</table>\n",
       "</div>"
      ],
      "text/plain": [
       "   PassengerId  Survived  Pclass  \\\n",
       "0            1         0       3   \n",
       "1            2         1       1   \n",
       "2            3         1       3   \n",
       "3            4         1       1   \n",
       "4            5         0       3   \n",
       "5            6         0       3   \n",
       "6            7         0       1   \n",
       "7            8         0       3   \n",
       "8            9         1       3   \n",
       "9           10         1       2   \n",
       "\n",
       "                                                Name     Sex   Age  SibSp  \\\n",
       "0                            Braund, Mr. Owen Harris    male  22.0      1   \n",
       "1  Cumings, Mrs. John Bradley (Florence Briggs Th...  female  38.0      1   \n",
       "2                             Heikkinen, Miss. Laina  female  26.0      0   \n",
       "3       Futrelle, Mrs. Jacques Heath (Lily May Peel)  female  35.0      1   \n",
       "4                           Allen, Mr. William Henry    male  35.0      0   \n",
       "5                                   Moran, Mr. James    male   NaN      0   \n",
       "6                            McCarthy, Mr. Timothy J    male  54.0      0   \n",
       "7                     Palsson, Master. Gosta Leonard    male   2.0      3   \n",
       "8  Johnson, Mrs. Oscar W (Elisabeth Vilhelmina Berg)  female  27.0      0   \n",
       "9                Nasser, Mrs. Nicholas (Adele Achem)  female  14.0      1   \n",
       "\n",
       "   Parch            Ticket     Fare Cabin Embarked  \n",
       "0      0         A/5 21171   7.2500   NaN        S  \n",
       "1      0          PC 17599  71.2833   C85        C  \n",
       "2      0  STON/O2. 3101282   7.9250   NaN        S  \n",
       "3      0            113803  53.1000  C123        S  \n",
       "4      0            373450   8.0500   NaN        S  \n",
       "5      0            330877   8.4583   NaN        Q  \n",
       "6      0             17463  51.8625   E46        S  \n",
       "7      1            349909  21.0750   NaN        S  \n",
       "8      2            347742  11.1333   NaN        S  \n",
       "9      0            237736  30.0708   NaN        C  "
      ]
     },
     "execution_count": 5,
     "metadata": {},
     "output_type": "execute_result"
    }
   ],
   "source": [
    "dataset.head(10)"
   ]
  },
  {
   "cell_type": "code",
   "execution_count": 6,
   "metadata": {
    "collapsed": false
   },
   "outputs": [
    {
     "data": {
      "text/plain": [
       "(891, 12)"
      ]
     },
     "execution_count": 6,
     "metadata": {},
     "output_type": "execute_result"
    }
   ],
   "source": [
    "dataset.shape"
   ]
  },
  {
   "cell_type": "code",
   "execution_count": 7,
   "metadata": {
    "collapsed": false
   },
   "outputs": [
    {
     "data": {
      "text/plain": [
       "PassengerId      int64\n",
       "Survived         int64\n",
       "Pclass           int64\n",
       "Name            object\n",
       "Sex             object\n",
       "Age            float64\n",
       "SibSp            int64\n",
       "Parch            int64\n",
       "Ticket          object\n",
       "Fare           float64\n",
       "Cabin           object\n",
       "Embarked        object\n",
       "dtype: object"
      ]
     },
     "execution_count": 7,
     "metadata": {},
     "output_type": "execute_result"
    }
   ],
   "source": [
    "dataset.dtypes"
   ]
  },
  {
   "cell_type": "markdown",
   "metadata": {},
   "source": [
    "It seems that the features PassengerId, Name, Ticket, Cabin might not be that useful for predictions either due to missing values or the small amount of information that the features contain.\n",
    "\n",
    "So we are going to drop these features"
   ]
  },
  {
   "cell_type": "code",
   "execution_count": 8,
   "metadata": {
    "collapsed": false
   },
   "outputs": [
    {
     "data": {
      "text/html": [
       "<div>\n",
       "<table border=\"1\" class=\"dataframe\">\n",
       "  <thead>\n",
       "    <tr style=\"text-align: right;\">\n",
       "      <th></th>\n",
       "      <th>Survived</th>\n",
       "      <th>Pclass</th>\n",
       "      <th>Sex</th>\n",
       "      <th>Age</th>\n",
       "      <th>SibSp</th>\n",
       "      <th>Parch</th>\n",
       "      <th>Fare</th>\n",
       "      <th>Embarked</th>\n",
       "    </tr>\n",
       "  </thead>\n",
       "  <tbody>\n",
       "    <tr>\n",
       "      <th>0</th>\n",
       "      <td>0</td>\n",
       "      <td>3</td>\n",
       "      <td>male</td>\n",
       "      <td>22.0</td>\n",
       "      <td>1</td>\n",
       "      <td>0</td>\n",
       "      <td>7.2500</td>\n",
       "      <td>S</td>\n",
       "    </tr>\n",
       "    <tr>\n",
       "      <th>1</th>\n",
       "      <td>1</td>\n",
       "      <td>1</td>\n",
       "      <td>female</td>\n",
       "      <td>38.0</td>\n",
       "      <td>1</td>\n",
       "      <td>0</td>\n",
       "      <td>71.2833</td>\n",
       "      <td>C</td>\n",
       "    </tr>\n",
       "    <tr>\n",
       "      <th>2</th>\n",
       "      <td>1</td>\n",
       "      <td>3</td>\n",
       "      <td>female</td>\n",
       "      <td>26.0</td>\n",
       "      <td>0</td>\n",
       "      <td>0</td>\n",
       "      <td>7.9250</td>\n",
       "      <td>S</td>\n",
       "    </tr>\n",
       "    <tr>\n",
       "      <th>3</th>\n",
       "      <td>1</td>\n",
       "      <td>1</td>\n",
       "      <td>female</td>\n",
       "      <td>35.0</td>\n",
       "      <td>1</td>\n",
       "      <td>0</td>\n",
       "      <td>53.1000</td>\n",
       "      <td>S</td>\n",
       "    </tr>\n",
       "    <tr>\n",
       "      <th>4</th>\n",
       "      <td>0</td>\n",
       "      <td>3</td>\n",
       "      <td>male</td>\n",
       "      <td>35.0</td>\n",
       "      <td>0</td>\n",
       "      <td>0</td>\n",
       "      <td>8.0500</td>\n",
       "      <td>S</td>\n",
       "    </tr>\n",
       "    <tr>\n",
       "      <th>5</th>\n",
       "      <td>0</td>\n",
       "      <td>3</td>\n",
       "      <td>male</td>\n",
       "      <td>NaN</td>\n",
       "      <td>0</td>\n",
       "      <td>0</td>\n",
       "      <td>8.4583</td>\n",
       "      <td>Q</td>\n",
       "    </tr>\n",
       "    <tr>\n",
       "      <th>6</th>\n",
       "      <td>0</td>\n",
       "      <td>1</td>\n",
       "      <td>male</td>\n",
       "      <td>54.0</td>\n",
       "      <td>0</td>\n",
       "      <td>0</td>\n",
       "      <td>51.8625</td>\n",
       "      <td>S</td>\n",
       "    </tr>\n",
       "    <tr>\n",
       "      <th>7</th>\n",
       "      <td>0</td>\n",
       "      <td>3</td>\n",
       "      <td>male</td>\n",
       "      <td>2.0</td>\n",
       "      <td>3</td>\n",
       "      <td>1</td>\n",
       "      <td>21.0750</td>\n",
       "      <td>S</td>\n",
       "    </tr>\n",
       "    <tr>\n",
       "      <th>8</th>\n",
       "      <td>1</td>\n",
       "      <td>3</td>\n",
       "      <td>female</td>\n",
       "      <td>27.0</td>\n",
       "      <td>0</td>\n",
       "      <td>2</td>\n",
       "      <td>11.1333</td>\n",
       "      <td>S</td>\n",
       "    </tr>\n",
       "    <tr>\n",
       "      <th>9</th>\n",
       "      <td>1</td>\n",
       "      <td>2</td>\n",
       "      <td>female</td>\n",
       "      <td>14.0</td>\n",
       "      <td>1</td>\n",
       "      <td>0</td>\n",
       "      <td>30.0708</td>\n",
       "      <td>C</td>\n",
       "    </tr>\n",
       "  </tbody>\n",
       "</table>\n",
       "</div>"
      ],
      "text/plain": [
       "   Survived  Pclass     Sex   Age  SibSp  Parch     Fare Embarked\n",
       "0         0       3    male  22.0      1      0   7.2500        S\n",
       "1         1       1  female  38.0      1      0  71.2833        C\n",
       "2         1       3  female  26.0      0      0   7.9250        S\n",
       "3         1       1  female  35.0      1      0  53.1000        S\n",
       "4         0       3    male  35.0      0      0   8.0500        S\n",
       "5         0       3    male   NaN      0      0   8.4583        Q\n",
       "6         0       1    male  54.0      0      0  51.8625        S\n",
       "7         0       3    male   2.0      3      1  21.0750        S\n",
       "8         1       3  female  27.0      0      2  11.1333        S\n",
       "9         1       2  female  14.0      1      0  30.0708        C"
      ]
     },
     "execution_count": 8,
     "metadata": {},
     "output_type": "execute_result"
    }
   ],
   "source": [
    "_dataset = dataset.drop(dataset.columns[[0, 3, 8, 10]], axis=1)\n",
    "_dataset.head(10)"
   ]
  },
  {
   "cell_type": "code",
   "execution_count": 9,
   "metadata": {
    "collapsed": false
   },
   "outputs": [
    {
     "data": {
      "text/plain": [
       "array([0, 1, 1, 1, 0])"
      ]
     },
     "execution_count": 9,
     "metadata": {},
     "output_type": "execute_result"
    }
   ],
   "source": [
    "# \n",
    "Ydf = _dataset['Survived']\n",
    "Y = Ydf.values\n",
    "_dataset.drop('Survived', axis=1, inplace=True)\n",
    "Y[:5]"
   ]
  },
  {
   "cell_type": "code",
   "execution_count": 10,
   "metadata": {
    "collapsed": false
   },
   "outputs": [
    {
     "data": {
      "text/html": [
       "<div>\n",
       "<table border=\"1\" class=\"dataframe\">\n",
       "  <thead>\n",
       "    <tr style=\"text-align: right;\">\n",
       "      <th></th>\n",
       "      <th>Pclass</th>\n",
       "      <th>Sex</th>\n",
       "      <th>Age</th>\n",
       "      <th>SibSp</th>\n",
       "      <th>Parch</th>\n",
       "      <th>Fare</th>\n",
       "      <th>Embarked</th>\n",
       "    </tr>\n",
       "  </thead>\n",
       "  <tbody>\n",
       "    <tr>\n",
       "      <th>0</th>\n",
       "      <td>3</td>\n",
       "      <td>male</td>\n",
       "      <td>22.0</td>\n",
       "      <td>1</td>\n",
       "      <td>0</td>\n",
       "      <td>7.2500</td>\n",
       "      <td>S</td>\n",
       "    </tr>\n",
       "    <tr>\n",
       "      <th>1</th>\n",
       "      <td>1</td>\n",
       "      <td>female</td>\n",
       "      <td>38.0</td>\n",
       "      <td>1</td>\n",
       "      <td>0</td>\n",
       "      <td>71.2833</td>\n",
       "      <td>C</td>\n",
       "    </tr>\n",
       "    <tr>\n",
       "      <th>2</th>\n",
       "      <td>3</td>\n",
       "      <td>female</td>\n",
       "      <td>26.0</td>\n",
       "      <td>0</td>\n",
       "      <td>0</td>\n",
       "      <td>7.9250</td>\n",
       "      <td>S</td>\n",
       "    </tr>\n",
       "    <tr>\n",
       "      <th>3</th>\n",
       "      <td>1</td>\n",
       "      <td>female</td>\n",
       "      <td>35.0</td>\n",
       "      <td>1</td>\n",
       "      <td>0</td>\n",
       "      <td>53.1000</td>\n",
       "      <td>S</td>\n",
       "    </tr>\n",
       "    <tr>\n",
       "      <th>4</th>\n",
       "      <td>3</td>\n",
       "      <td>male</td>\n",
       "      <td>35.0</td>\n",
       "      <td>0</td>\n",
       "      <td>0</td>\n",
       "      <td>8.0500</td>\n",
       "      <td>S</td>\n",
       "    </tr>\n",
       "  </tbody>\n",
       "</table>\n",
       "</div>"
      ],
      "text/plain": [
       "   Pclass     Sex   Age  SibSp  Parch     Fare Embarked\n",
       "0       3    male  22.0      1      0   7.2500        S\n",
       "1       1  female  38.0      1      0  71.2833        C\n",
       "2       3  female  26.0      0      0   7.9250        S\n",
       "3       1  female  35.0      1      0  53.1000        S\n",
       "4       3    male  35.0      0      0   8.0500        S"
      ]
     },
     "execution_count": 10,
     "metadata": {},
     "output_type": "execute_result"
    }
   ],
   "source": [
    "_dataset.head(5)"
   ]
  },
  {
   "cell_type": "markdown",
   "metadata": {},
   "source": [
    "Let's see the statistics of our data. We see that the most of the features have a variable scale in their data. This difference in scale can damage the performance of algorithms like Logistic regression and SVM that need to perform mathematical operations between different features. However Tree-based methods are fairly robust to these variations as they only compute comparisons between the same feature.\n",
    "\n",
    "This means that we need to normalize the data in order to make the scale of different features comparable."
   ]
  },
  {
   "cell_type": "code",
   "execution_count": 11,
   "metadata": {
    "collapsed": false
   },
   "outputs": [
    {
     "data": {
      "text/html": [
       "<div>\n",
       "<table border=\"1\" class=\"dataframe\">\n",
       "  <thead>\n",
       "    <tr style=\"text-align: right;\">\n",
       "      <th></th>\n",
       "      <th>Pclass</th>\n",
       "      <th>Age</th>\n",
       "      <th>SibSp</th>\n",
       "      <th>Parch</th>\n",
       "      <th>Fare</th>\n",
       "    </tr>\n",
       "  </thead>\n",
       "  <tbody>\n",
       "    <tr>\n",
       "      <th>count</th>\n",
       "      <td>891.000000</td>\n",
       "      <td>714.000000</td>\n",
       "      <td>891.000000</td>\n",
       "      <td>891.000000</td>\n",
       "      <td>891.000000</td>\n",
       "    </tr>\n",
       "    <tr>\n",
       "      <th>mean</th>\n",
       "      <td>2.308642</td>\n",
       "      <td>29.699118</td>\n",
       "      <td>0.523008</td>\n",
       "      <td>0.381594</td>\n",
       "      <td>32.204208</td>\n",
       "    </tr>\n",
       "    <tr>\n",
       "      <th>std</th>\n",
       "      <td>0.836071</td>\n",
       "      <td>14.526497</td>\n",
       "      <td>1.102743</td>\n",
       "      <td>0.806057</td>\n",
       "      <td>49.693429</td>\n",
       "    </tr>\n",
       "    <tr>\n",
       "      <th>min</th>\n",
       "      <td>1.000000</td>\n",
       "      <td>0.420000</td>\n",
       "      <td>0.000000</td>\n",
       "      <td>0.000000</td>\n",
       "      <td>0.000000</td>\n",
       "    </tr>\n",
       "    <tr>\n",
       "      <th>25%</th>\n",
       "      <td>2.000000</td>\n",
       "      <td>20.125000</td>\n",
       "      <td>0.000000</td>\n",
       "      <td>0.000000</td>\n",
       "      <td>7.910400</td>\n",
       "    </tr>\n",
       "    <tr>\n",
       "      <th>50%</th>\n",
       "      <td>3.000000</td>\n",
       "      <td>28.000000</td>\n",
       "      <td>0.000000</td>\n",
       "      <td>0.000000</td>\n",
       "      <td>14.454200</td>\n",
       "    </tr>\n",
       "    <tr>\n",
       "      <th>75%</th>\n",
       "      <td>3.000000</td>\n",
       "      <td>38.000000</td>\n",
       "      <td>1.000000</td>\n",
       "      <td>0.000000</td>\n",
       "      <td>31.000000</td>\n",
       "    </tr>\n",
       "    <tr>\n",
       "      <th>max</th>\n",
       "      <td>3.000000</td>\n",
       "      <td>80.000000</td>\n",
       "      <td>8.000000</td>\n",
       "      <td>6.000000</td>\n",
       "      <td>512.329200</td>\n",
       "    </tr>\n",
       "  </tbody>\n",
       "</table>\n",
       "</div>"
      ],
      "text/plain": [
       "           Pclass         Age       SibSp       Parch        Fare\n",
       "count  891.000000  714.000000  891.000000  891.000000  891.000000\n",
       "mean     2.308642   29.699118    0.523008    0.381594   32.204208\n",
       "std      0.836071   14.526497    1.102743    0.806057   49.693429\n",
       "min      1.000000    0.420000    0.000000    0.000000    0.000000\n",
       "25%      2.000000   20.125000    0.000000    0.000000    7.910400\n",
       "50%      3.000000   28.000000    0.000000    0.000000   14.454200\n",
       "75%      3.000000   38.000000    1.000000    0.000000   31.000000\n",
       "max      3.000000   80.000000    8.000000    6.000000  512.329200"
      ]
     },
     "execution_count": 11,
     "metadata": {},
     "output_type": "execute_result"
    }
   ],
   "source": [
    "_dataset.describe()"
   ]
  },
  {
   "cell_type": "markdown",
   "metadata": {},
   "source": [
    "The Class distribution of our data is not properly balanced. This can cause difficulty in training. But we will ignore it for now."
   ]
  },
  {
   "cell_type": "code",
   "execution_count": 12,
   "metadata": {
    "collapsed": false
   },
   "outputs": [
    {
     "data": {
      "text/plain": [
       "Survived\n",
       "0    549\n",
       "1    342\n",
       "dtype: int64"
      ]
     },
     "execution_count": 12,
     "metadata": {},
     "output_type": "execute_result"
    }
   ],
   "source": [
    "dataset.groupby('Survived').size()"
   ]
  },
  {
   "cell_type": "markdown",
   "metadata": {},
   "source": [
    "For most machine learning algorithms it is important that the features are not correlated to on another. Highly correlated features dont add any extra information to the model and increase model complexity. If the features contain a lot of noise then they will misguide the model and result in poor performance.\n",
    "\n",
    "Looking at out data we see that some of the features show a strong correlation to one another. We can deal with this by either using feature selection or dimensionality reduction"
   ]
  },
  {
   "cell_type": "code",
   "execution_count": 13,
   "metadata": {
    "collapsed": false
   },
   "outputs": [
    {
     "data": {
      "image/png": "[encoded data removed]",
      "text/plain": [
       "<matplotlib.figure.Figure at 0x7f9d865b7750>"
      ]
     },
     "metadata": {},
     "output_type": "display_data"
    }
   ],
   "source": [
    "corr = _dataset.corr(method='pearson')\n",
    "corr = dataset.corr()\n",
    "fig = plt.figure()\n",
    "ax = fig.add_subplot(111)\n",
    "cax = ax.matshow(corr, vmin=-1, vmax=1)\n",
    "fig.colorbar(cax)\n",
    "plt.show()"
   ]
  },
  {
   "cell_type": "markdown",
   "metadata": {},
   "source": [
    "The distribution of some of our features is highly skewed. The PClass feature shows a tri-modal distribution. Most ML algorithms work best with gaussian normal distributions.   We can fix some of this problem by standardizing the dataset."
   ]
  },
  {
   "cell_type": "code",
   "execution_count": 14,
   "metadata": {
    "collapsed": false
   },
   "outputs": [
    {
     "data": {
      "text/plain": [
       "Pclass   -0.630548\n",
       "Age       0.389108\n",
       "SibSp     3.695352\n",
       "Parch     2.749117\n",
       "Fare      4.787317\n",
       "dtype: float64"
      ]
     },
     "execution_count": 14,
     "metadata": {},
     "output_type": "execute_result"
    }
   ],
   "source": [
    "_dataset.skew()"
   ]
  },
  {
   "cell_type": "code",
   "execution_count": 15,
   "metadata": {
    "collapsed": false
   },
   "outputs": [
    {
     "data": {
      "image/png": "[encoded data removed]",
      "text/plain": [
       "<matplotlib.figure.Figure at 0x7f9d865e5bd0>"
      ]
     },
     "metadata": {},
     "output_type": "display_data"
    }
   ],
   "source": [
    "'''\n",
    "    we see that\n",
    "    age - gaussian \n",
    "    pclass - tri modal\n",
    "    sibsp, parch, fare - exponential \n",
    "'''\n",
    "\n",
    "_dataset.plot(kind='density', subplots=True, layout=(3, 3), sharex=False)\n",
    "plt.show()"
   ]
  },
  {
   "cell_type": "code",
   "execution_count": 16,
   "metadata": {
    "collapsed": false
   },
   "outputs": [
    {
     "data": {
      "image/png": "[encoded data removed]",
      "text/plain": [
       "<matplotlib.figure.Figure at 0x7f9d95ca3650>"
      ]
     },
     "metadata": {},
     "output_type": "display_data"
    }
   ],
   "source": [
    "_dataset.plot(kind='box', subplots=True, layout=(3,3), sharex=False, sharey=False)\n",
    "plt.show()"
   ]
  },
  {
   "cell_type": "code",
   "execution_count": 17,
   "metadata": {
    "collapsed": false
   },
   "outputs": [
    {
     "data": {
      "image/png": "[encoded data removed]",
      "text/plain": [
       "<matplotlib.figure.Figure at 0x7f9dc1729210>"
      ]
     },
     "metadata": {},
     "output_type": "display_data"
    }
   ],
   "source": [
    "scatter_matrix(_dataset)\n",
    "plt.show()"
   ]
  },
  {
   "cell_type": "markdown",
   "metadata": {},
   "source": [
    "One-Hot encoding categorical variables"
   ]
  },
  {
   "cell_type": "code",
   "execution_count": 18,
   "metadata": {
    "collapsed": false
   },
   "outputs": [
    {
     "name": "stderr",
     "output_type": "stream",
     "text": [
      "/usr/local/lib/python2.7/dist-packages/numpy/lib/arraysetops.py:200: FutureWarning: numpy not_equal will not check object identity in the future. The comparison did not return the same result as suggested by the identity (`is`)) and will change.\n",
      "  flag = np.concatenate(([True], aux[1:] != aux[:-1]))\n",
      "/usr/local/lib/python2.7/dist-packages/numpy/lib/arraysetops.py:259: FutureWarning: numpy equal will not check object identity in the future. The comparison did not return the same result as suggested by the identity (`is`)) and will change.\n",
      "  return aux[:-1][aux[1:] == aux[:-1]]\n"
     ]
    },
    {
     "data": {
      "text/html": [
       "<div>\n",
       "<table border=\"1\" class=\"dataframe\">\n",
       "  <thead>\n",
       "    <tr style=\"text-align: right;\">\n",
       "      <th></th>\n",
       "      <th>Pclass</th>\n",
       "      <th>Sex</th>\n",
       "      <th>Age</th>\n",
       "      <th>SibSp</th>\n",
       "      <th>Parch</th>\n",
       "      <th>Fare</th>\n",
       "      <th>Embarked</th>\n",
       "    </tr>\n",
       "  </thead>\n",
       "  <tbody>\n",
       "    <tr>\n",
       "      <th>0</th>\n",
       "      <td>3</td>\n",
       "      <td>1</td>\n",
       "      <td>22.0</td>\n",
       "      <td>1</td>\n",
       "      <td>0</td>\n",
       "      <td>7.2500</td>\n",
       "      <td>3</td>\n",
       "    </tr>\n",
       "    <tr>\n",
       "      <th>1</th>\n",
       "      <td>1</td>\n",
       "      <td>0</td>\n",
       "      <td>38.0</td>\n",
       "      <td>1</td>\n",
       "      <td>0</td>\n",
       "      <td>71.2833</td>\n",
       "      <td>1</td>\n",
       "    </tr>\n",
       "    <tr>\n",
       "      <th>2</th>\n",
       "      <td>3</td>\n",
       "      <td>0</td>\n",
       "      <td>26.0</td>\n",
       "      <td>0</td>\n",
       "      <td>0</td>\n",
       "      <td>7.9250</td>\n",
       "      <td>3</td>\n",
       "    </tr>\n",
       "    <tr>\n",
       "      <th>3</th>\n",
       "      <td>1</td>\n",
       "      <td>0</td>\n",
       "      <td>35.0</td>\n",
       "      <td>1</td>\n",
       "      <td>0</td>\n",
       "      <td>53.1000</td>\n",
       "      <td>3</td>\n",
       "    </tr>\n",
       "    <tr>\n",
       "      <th>4</th>\n",
       "      <td>3</td>\n",
       "      <td>1</td>\n",
       "      <td>35.0</td>\n",
       "      <td>0</td>\n",
       "      <td>0</td>\n",
       "      <td>8.0500</td>\n",
       "      <td>3</td>\n",
       "    </tr>\n",
       "    <tr>\n",
       "      <th>5</th>\n",
       "      <td>3</td>\n",
       "      <td>1</td>\n",
       "      <td>NaN</td>\n",
       "      <td>0</td>\n",
       "      <td>0</td>\n",
       "      <td>8.4583</td>\n",
       "      <td>2</td>\n",
       "    </tr>\n",
       "    <tr>\n",
       "      <th>6</th>\n",
       "      <td>1</td>\n",
       "      <td>1</td>\n",
       "      <td>54.0</td>\n",
       "      <td>0</td>\n",
       "      <td>0</td>\n",
       "      <td>51.8625</td>\n",
       "      <td>3</td>\n",
       "    </tr>\n",
       "    <tr>\n",
       "      <th>7</th>\n",
       "      <td>3</td>\n",
       "      <td>1</td>\n",
       "      <td>2.0</td>\n",
       "      <td>3</td>\n",
       "      <td>1</td>\n",
       "      <td>21.0750</td>\n",
       "      <td>3</td>\n",
       "    </tr>\n",
       "    <tr>\n",
       "      <th>8</th>\n",
       "      <td>3</td>\n",
       "      <td>0</td>\n",
       "      <td>27.0</td>\n",
       "      <td>0</td>\n",
       "      <td>2</td>\n",
       "      <td>11.1333</td>\n",
       "      <td>3</td>\n",
       "    </tr>\n",
       "    <tr>\n",
       "      <th>9</th>\n",
       "      <td>2</td>\n",
       "      <td>0</td>\n",
       "      <td>14.0</td>\n",
       "      <td>1</td>\n",
       "      <td>0</td>\n",
       "      <td>30.0708</td>\n",
       "      <td>1</td>\n",
       "    </tr>\n",
       "  </tbody>\n",
       "</table>\n",
       "</div>"
      ],
      "text/plain": [
       "   Pclass  Sex   Age  SibSp  Parch     Fare  Embarked\n",
       "0       3    1  22.0      1      0   7.2500         3\n",
       "1       1    0  38.0      1      0  71.2833         1\n",
       "2       3    0  26.0      0      0   7.9250         3\n",
       "3       1    0  35.0      1      0  53.1000         3\n",
       "4       3    1  35.0      0      0   8.0500         3\n",
       "5       3    1   NaN      0      0   8.4583         2\n",
       "6       1    1  54.0      0      0  51.8625         3\n",
       "7       3    1   2.0      3      1  21.0750         3\n",
       "8       3    0  27.0      0      2  11.1333         3\n",
       "9       2    0  14.0      1      0  30.0708         1"
      ]
     },
     "execution_count": 18,
     "metadata": {},
     "output_type": "execute_result"
    }
   ],
   "source": [
    "# encoding string values \n",
    "sex_encoder = LabelEncoder().fit(_dataset['Sex'])\n",
    "emb_encoder = LabelEncoder().fit(_dataset['Embarked'])\n",
    "\n",
    "sex_encoder.classes_\n",
    "emb_encoder.classes_\n",
    "\n",
    "_dataset['Sex'] = sex_encoder.transform(_dataset['Sex'])\n",
    "_dataset['Embarked'] = emb_encoder.transform(_dataset['Embarked'])\n",
    "\n",
    "_dataset.head(10)"
   ]
  },
  {
   "cell_type": "markdown",
   "metadata": {},
   "source": [
    "Filling missing age rows with the median age"
   ]
  },
  {
   "cell_type": "code",
   "execution_count": 19,
   "metadata": {
    "collapsed": false
   },
   "outputs": [
    {
     "data": {
      "text/html": [
       "<div>\n",
       "<table border=\"1\" class=\"dataframe\">\n",
       "  <thead>\n",
       "    <tr style=\"text-align: right;\">\n",
       "      <th></th>\n",
       "      <th>Pclass</th>\n",
       "      <th>Sex</th>\n",
       "      <th>Age</th>\n",
       "      <th>SibSp</th>\n",
       "      <th>Parch</th>\n",
       "      <th>Fare</th>\n",
       "      <th>Embarked</th>\n",
       "    </tr>\n",
       "  </thead>\n",
       "  <tbody>\n",
       "    <tr>\n",
       "      <th>0</th>\n",
       "      <td>3</td>\n",
       "      <td>1</td>\n",
       "      <td>22.0</td>\n",
       "      <td>1</td>\n",
       "      <td>0</td>\n",
       "      <td>7.2500</td>\n",
       "      <td>3</td>\n",
       "    </tr>\n",
       "    <tr>\n",
       "      <th>1</th>\n",
       "      <td>1</td>\n",
       "      <td>0</td>\n",
       "      <td>38.0</td>\n",
       "      <td>1</td>\n",
       "      <td>0</td>\n",
       "      <td>71.2833</td>\n",
       "      <td>1</td>\n",
       "    </tr>\n",
       "    <tr>\n",
       "      <th>2</th>\n",
       "      <td>3</td>\n",
       "      <td>0</td>\n",
       "      <td>26.0</td>\n",
       "      <td>0</td>\n",
       "      <td>0</td>\n",
       "      <td>7.9250</td>\n",
       "      <td>3</td>\n",
       "    </tr>\n",
       "    <tr>\n",
       "      <th>3</th>\n",
       "      <td>1</td>\n",
       "      <td>0</td>\n",
       "      <td>35.0</td>\n",
       "      <td>1</td>\n",
       "      <td>0</td>\n",
       "      <td>53.1000</td>\n",
       "      <td>3</td>\n",
       "    </tr>\n",
       "    <tr>\n",
       "      <th>4</th>\n",
       "      <td>3</td>\n",
       "      <td>1</td>\n",
       "      <td>35.0</td>\n",
       "      <td>0</td>\n",
       "      <td>0</td>\n",
       "      <td>8.0500</td>\n",
       "      <td>3</td>\n",
       "    </tr>\n",
       "    <tr>\n",
       "      <th>5</th>\n",
       "      <td>3</td>\n",
       "      <td>1</td>\n",
       "      <td>28.0</td>\n",
       "      <td>0</td>\n",
       "      <td>0</td>\n",
       "      <td>8.4583</td>\n",
       "      <td>2</td>\n",
       "    </tr>\n",
       "    <tr>\n",
       "      <th>6</th>\n",
       "      <td>1</td>\n",
       "      <td>1</td>\n",
       "      <td>54.0</td>\n",
       "      <td>0</td>\n",
       "      <td>0</td>\n",
       "      <td>51.8625</td>\n",
       "      <td>3</td>\n",
       "    </tr>\n",
       "    <tr>\n",
       "      <th>7</th>\n",
       "      <td>3</td>\n",
       "      <td>1</td>\n",
       "      <td>2.0</td>\n",
       "      <td>3</td>\n",
       "      <td>1</td>\n",
       "      <td>21.0750</td>\n",
       "      <td>3</td>\n",
       "    </tr>\n",
       "    <tr>\n",
       "      <th>8</th>\n",
       "      <td>3</td>\n",
       "      <td>0</td>\n",
       "      <td>27.0</td>\n",
       "      <td>0</td>\n",
       "      <td>2</td>\n",
       "      <td>11.1333</td>\n",
       "      <td>3</td>\n",
       "    </tr>\n",
       "    <tr>\n",
       "      <th>9</th>\n",
       "      <td>2</td>\n",
       "      <td>0</td>\n",
       "      <td>14.0</td>\n",
       "      <td>1</td>\n",
       "      <td>0</td>\n",
       "      <td>30.0708</td>\n",
       "      <td>1</td>\n",
       "    </tr>\n",
       "  </tbody>\n",
       "</table>\n",
       "</div>"
      ],
      "text/plain": [
       "   Pclass  Sex   Age  SibSp  Parch     Fare  Embarked\n",
       "0       3    1  22.0      1      0   7.2500         3\n",
       "1       1    0  38.0      1      0  71.2833         1\n",
       "2       3    0  26.0      0      0   7.9250         3\n",
       "3       1    0  35.0      1      0  53.1000         3\n",
       "4       3    1  35.0      0      0   8.0500         3\n",
       "5       3    1  28.0      0      0   8.4583         2\n",
       "6       1    1  54.0      0      0  51.8625         3\n",
       "7       3    1   2.0      3      1  21.0750         3\n",
       "8       3    0  27.0      0      2  11.1333         3\n",
       "9       2    0  14.0      1      0  30.0708         1"
      ]
     },
     "execution_count": 19,
     "metadata": {},
     "output_type": "execute_result"
    }
   ],
   "source": [
    "_dataset_agefix = _dataset\n",
    "_dataset_agefix['Age'] = _dataset_agefix['Age'].fillna(_dataset_agefix['Age'].median())\n",
    "_dataset_agefix.head(10)"
   ]
  },
  {
   "cell_type": "markdown",
   "metadata": {},
   "source": [
    "## Split the data into traning and validation set"
   ]
  },
  {
   "cell_type": "code",
   "execution_count": 20,
   "metadata": {
    "collapsed": false
   },
   "outputs": [
    {
     "data": {
      "text/plain": [
       "array([[  3.    ,   0.    ,   2.    ,   0.    ,   1.    ,  10.4625,   3.    ],\n",
       "       [  3.    ,   1.    ,  28.    ,   0.    ,   0.    ,  15.5   ,   2.    ],\n",
       "       [  1.    ,   0.    ,  39.    ,   1.    ,   1.    ,  83.1583,   1.    ],\n",
       "       [  3.    ,   1.    ,  74.    ,   0.    ,   0.    ,   7.775 ,   3.    ],\n",
       "       [  3.    ,   1.    ,  28.    ,   0.    ,   0.    ,   7.225 ,   1.    ]])"
      ]
     },
     "execution_count": 20,
     "metadata": {},
     "output_type": "execute_result"
    }
   ],
   "source": [
    "X = _dataset_agefix.values\n",
    "\n",
    "# split a validation set\n",
    "validation_size = 0.2\n",
    "seed = 7\n",
    "\n",
    "X_train, X_validation, Y_train, Y_validation = train_test_split(X, Y, test_size=validation_size, random_state=seed)\n",
    "\n",
    "X_train[:5]"
   ]
  },
  {
   "cell_type": "markdown",
   "metadata": {},
   "source": [
    "## Spot Checking\n",
    "There is no best ML algorithm, some algorithms work better with some type of data while others may not. The only way to find out is by trying them all. Let's spot check the data without standardizing and see which algorithms work best"
   ]
  },
  {
   "cell_type": "code",
   "execution_count": 21,
   "metadata": {
    "collapsed": false
   },
   "outputs": [
    {
     "name": "stdout",
     "output_type": "stream",
     "text": [
      "LR : 0.807629107981 0.0487305355186\n",
      "LDA : 0.80201486698 0.0509094844173\n",
      "KNN : 0.688458528951 0.0849777146529\n",
      "CART : 0.771185446009 0.0462078111582\n",
      "CART_5 : 0.779636150235 0.0532579718358\n",
      "CART_50 : 0.814710485133 0.0495588312514\n",
      "CART_100 : 0.830164319249 0.0565442587957\n",
      "NB : 0.794953051643 0.0534312499806\n",
      "SVM : 0.708176838811 0.0941946320333\n",
      "SVM_5 : 0.657609546166 0.0960418616561\n"
     ]
    }
   ],
   "source": [
    "models = [\n",
    "    ('LR', LogisticRegression()),\n",
    "    ('LDA', LinearDiscriminantAnalysis()),\n",
    "    ('KNN', KNeighborsClassifier()),\n",
    "    ('CART', DecisionTreeClassifier()),\n",
    "    ('CART_5', DecisionTreeClassifier(min_samples_split=5)),\n",
    "    ('CART_50', DecisionTreeClassifier(min_samples_split=50)),\n",
    "    ('CART_100', DecisionTreeClassifier(min_samples_split=100)),\n",
    "    ('NB', GaussianNB()),\n",
    "    ('SVM', SVC()),\n",
    "    ('SVM_5', SVC(C=.5))\n",
    "]\n",
    "\n",
    "results = []\n",
    "names = []\n",
    "\n",
    "n_splits = 10\n",
    "seed = 7\n",
    "scoring = 'accuracy'\n",
    "\n",
    "for name, model in models:\n",
    "    kfold = KFold(n_splits=n_splits, random_state=seed)\n",
    "    cv_results = cross_val_score(model, X_train, Y_train, cv=kfold, scoring=scoring)\n",
    "    results.append(cv_results)\n",
    "    names.append(name)\n",
    "    print name, ':', cv_results.mean(), (cv_results.std())"
   ]
  },
  {
   "cell_type": "markdown",
   "metadata": {},
   "source": [
    "We see that Logistic Regression, Decision tree and LDA work best on the data with out standardization.\n",
    "But KNN and SVM are underperforming, this can be due to variable scale of the data."
   ]
  },
  {
   "cell_type": "code",
   "execution_count": 22,
   "metadata": {
    "collapsed": false
   },
   "outputs": [
    {
     "data": {
      "image/png": "[encoded data removed]",
      "text/plain": [
       "<matplotlib.figure.Figure at 0x7f9d8310a610>"
      ]
     },
     "metadata": {},
     "output_type": "display_data"
    }
   ],
   "source": [
    "fig = plt.figure() \n",
    "fig.suptitle('Algorithm Comparison') \n",
    "ax = fig.add_subplot(111) \n",
    "plt.boxplot(results) \n",
    "ax.set_xticklabels(names) \n",
    "plt.show()"
   ]
  },
  {
   "cell_type": "markdown",
   "metadata": {},
   "source": [
    "## Spot Checking with standardization"
   ]
  },
  {
   "cell_type": "code",
   "execution_count": 25,
   "metadata": {
    "collapsed": false
   },
   "outputs": [
    {
     "name": "stdout",
     "output_type": "stream",
     "text": [
      "ScaledLR : 0.807648669797 0.0458446532421\n",
      "ScaledLDA : 0.80201486698 0.0509094844173\n",
      "ScaledKNN : 0.817644757433 0.0597094925504\n",
      "ScaledCART : 0.830164319249 0.0565442587957\n",
      "ScaledNB : 0.794953051643 0.0534312499806\n",
      "ScaledSVM : 0.841412363067 0.0521148238465\n"
     ]
    }
   ],
   "source": [
    "pipelines = [\n",
    "    ('ScaledLR', Pipeline([\n",
    "                ('Scaler', StandardScaler()),\n",
    "                ('LR', LogisticRegression())]\n",
    "                         )\n",
    "    ),\n",
    "    ('ScaledLDA', Pipeline([\n",
    "                ('Scaler', StandardScaler()),\n",
    "                ('LDA', LinearDiscriminantAnalysis())]\n",
    "                         )\n",
    "    ),\n",
    "    ('ScaledKNN', Pipeline([\n",
    "                ('Scaler', StandardScaler()),\n",
    "                ('KNN', KNeighborsClassifier())]\n",
    "                         )\n",
    "    ),\n",
    "    ('ScaledCART', Pipeline([\n",
    "                ('Scaler', StandardScaler()),\n",
    "                ('CART', DecisionTreeClassifier(min_samples_split=100))]\n",
    "                         )\n",
    "    ),\n",
    "    ('ScaledNB', Pipeline([\n",
    "                ('Scaler', StandardScaler()),\n",
    "                ('NB', GaussianNB())]\n",
    "                         )\n",
    "    ),\n",
    "    ('ScaledSVM', Pipeline([\n",
    "                ('Scaler', StandardScaler()),\n",
    "                ('SVM', SVC())]\n",
    "                         )\n",
    "    ),\n",
    "]\n",
    "\n",
    "results = []\n",
    "names = []\n",
    "\n",
    "n_splits = 10\n",
    "seed = 7\n",
    "scoring = 'accuracy'\n",
    "\n",
    "for name, model in pipelines:\n",
    "    kfold = KFold(n_splits=n_splits, random_state=seed)\n",
    "    cv_results = cross_val_score(model, X_train, Y_train, cv=kfold, scoring=scoring)\n",
    "    results.append(cv_results)\n",
    "    names.append(name)\n",
    "    print name, ':', cv_results.mean(), (cv_results.std())"
   ]
  },
  {
   "cell_type": "markdown",
   "metadata": {},
   "source": [
    "We see that the previously underperforming SVM now show the highest accuracy after standardiztaion."
   ]
  },
  {
   "cell_type": "code",
   "execution_count": 27,
   "metadata": {
    "collapsed": false
   },
   "outputs": [
    {
     "data": {
      "image/png": "[encoded data removed]",
      "text/plain": [
       "<matplotlib.figure.Figure at 0x7f9d83ab0c10>"
      ]
     },
     "metadata": {},
     "output_type": "display_data"
    }
   ],
   "source": [
    "fig = plt.figure() \n",
    "fig.suptitle('Algorithm Comparison') \n",
    "ax = fig.add_subplot(111) \n",
    "plt.boxplot(results) \n",
    "ax.set_xticklabels(names) \n",
    "plt.show()"
   ]
  },
  {
   "cell_type": "markdown",
   "metadata": {},
   "source": [
    "Let's look into some Ensemble methods. Ensemble methods generally show better accuracy than just one model."
   ]
  },
  {
   "cell_type": "code",
   "execution_count": 28,
   "metadata": {
    "collapsed": false
   },
   "outputs": [
    {
     "name": "stdout",
     "output_type": "stream",
     "text": [
      "ADA : 0.820305164319 0.0611431254922\n",
      "GBM : 0.825997652582 0.0493162055247\n",
      "RF_50 : 0.827386541471 0.0546205819105\n",
      "RF_100 : 0.814710485133 0.0574377538255\n",
      "ET_50 : 0.831553208138 0.0521191118193\n",
      "ET_100 : 0.817527386541 0.04199824717\n"
     ]
    }
   ],
   "source": [
    "models = [\n",
    "    ('ADA', AdaBoostClassifier()),\n",
    "    ('GBM', GradientBoostingClassifier()),\n",
    "    ('RF_50', RandomForestClassifier(min_samples_split=50, n_estimators=50)),\n",
    "    ('RF_100', RandomForestClassifier(min_samples_split=100, n_estimators=100)),\n",
    "    ('ET_50', ExtraTreesClassifier(min_samples_split=50, n_estimators=50)),\n",
    "    ('ET_100', ExtraTreesClassifier(min_samples_split=100, n_estimators=100))\n",
    "]\n",
    "\n",
    "results = []\n",
    "names = []\n",
    "\n",
    "n_splits = 10\n",
    "seed = 7\n",
    "scoring = 'accuracy'\n",
    "\n",
    "for name, model in models:\n",
    "    kfold = KFold(n_splits=n_splits, random_state=seed)\n",
    "    cv_results = cross_val_score(model, X_train, Y_train, cv=kfold, scoring=scoring)\n",
    "    results.append(cv_results)\n",
    "    names.append(name)\n",
    "    print name, ':', cv_results.mean(), (cv_results.std())"
   ]
  },
  {
   "cell_type": "markdown",
   "metadata": {},
   "source": [
    "We see that the performance of these Ensemble models are compareable to what we achived using SVM."
   ]
  },
  {
   "cell_type": "code",
   "execution_count": 29,
   "metadata": {
    "collapsed": false
   },
   "outputs": [
    {
     "data": {
      "image/png": "[encoded data removed]",
      "text/plain": [
       "<matplotlib.figure.Figure at 0x7f9d82d8cc50>"
      ]
     },
     "metadata": {},
     "output_type": "display_data"
    }
   ],
   "source": [
    "fig = plt.figure() \n",
    "fig.suptitle('Algorithm Comparison') \n",
    "ax = fig.add_subplot(111) \n",
    "plt.boxplot(results) \n",
    "ax.set_xticklabels(names) \n",
    "plt.show()"
   ]
  },
  {
   "cell_type": "markdown",
   "metadata": {
    "collapsed": true
   },
   "source": [
    "## Conlusion\n",
    "From the above analysis, we have concluded that the following models work best for our data.\n",
    "1. CART_100\n",
    "2. SVM\n",
    "3. Random Forest\n",
    "\n",
    "We can now move on to fine tuning these algorithms to achieve best performance for our data.\n"
   ]
  },
  {
   "cell_type": "code",
   "execution_count": 30,
   "metadata": {
    "collapsed": false
   },
   "outputs": [
    {
     "name": "stdout",
     "output_type": "stream",
     "text": [
      "Best: 0.832865 using {'min_samples_split': 100, 'max_depth': 10, 'min_samples_leaf': 9}\n",
      "0.803371 (0.053254) with: {'min_samples_split': 10, 'max_depth': 10, 'min_samples_leaf': 2}\n",
      "0.814607 (0.049722) with: {'min_samples_split': 50, 'max_depth': 10, 'min_samples_leaf': 2}\n",
      "0.831461 (0.057149) with: {'min_samples_split': 100, 'max_depth': 10, 'min_samples_leaf': 2}\n",
      "0.811798 (0.047087) with: {'min_samples_split': 150, 'max_depth': 10, 'min_samples_leaf': 2}\n",
      "0.811798 (0.047087) with: {'min_samples_split': 200, 'max_depth': 10, 'min_samples_leaf': 2}\n",
      "0.800562 (0.052922) with: {'min_samples_split': 10, 'max_depth': 10, 'min_samples_leaf': 3}\n",
      "0.824438 (0.050251) with: {'min_samples_split': 50, 'max_depth': 10, 'min_samples_leaf': 3}\n",
      "0.830056 (0.056621) with: {'min_samples_split': 100, 'max_depth': 10, 'min_samples_leaf': 3}\n",
      "0.811798 (0.047087) with: {'min_samples_split': 150, 'max_depth': 10, 'min_samples_leaf': 3}\n",
      "0.811798 (0.047087) with: {'min_samples_split': 200, 'max_depth': 10, 'min_samples_leaf': 3}\n",
      "0.814607 (0.068934) with: {'min_samples_split': 10, 'max_depth': 10, 'min_samples_leaf': 5}\n",
      "0.824438 (0.051089) with: {'min_samples_split': 50, 'max_depth': 10, 'min_samples_leaf': 5}\n",
      "0.831461 (0.057149) with: {'min_samples_split': 100, 'max_depth': 10, 'min_samples_leaf': 5}\n",
      "0.811798 (0.047087) with: {'min_samples_split': 150, 'max_depth': 10, 'min_samples_leaf': 5}\n",
      "0.811798 (0.047087) with: {'min_samples_split': 200, 'max_depth': 10, 'min_samples_leaf': 5}\n",
      "0.806180 (0.059709) with: {'min_samples_split': 10, 'max_depth': 10, 'min_samples_leaf': 7}\n",
      "0.818820 (0.048443) with: {'min_samples_split': 50, 'max_depth': 10, 'min_samples_leaf': 7}\n",
      "0.831461 (0.057149) with: {'min_samples_split': 100, 'max_depth': 10, 'min_samples_leaf': 7}\n",
      "0.811798 (0.047087) with: {'min_samples_split': 150, 'max_depth': 10, 'min_samples_leaf': 7}\n",
      "0.811798 (0.047087) with: {'min_samples_split': 200, 'max_depth': 10, 'min_samples_leaf': 7}\n",
      "0.804775 (0.055028) with: {'min_samples_split': 10, 'max_depth': 10, 'min_samples_leaf': 9}\n",
      "0.814607 (0.054178) with: {'min_samples_split': 50, 'max_depth': 10, 'min_samples_leaf': 9}\n",
      "0.832865 (0.055894) with: {'min_samples_split': 100, 'max_depth': 10, 'min_samples_leaf': 9}\n",
      "0.811798 (0.047087) with: {'min_samples_split': 150, 'max_depth': 10, 'min_samples_leaf': 9}\n",
      "0.811798 (0.047087) with: {'min_samples_split': 200, 'max_depth': 10, 'min_samples_leaf': 9}\n",
      "0.808989 (0.053209) with: {'min_samples_split': 10, 'max_depth': 10, 'min_samples_leaf': 11}\n",
      "0.816011 (0.056190) with: {'min_samples_split': 50, 'max_depth': 10, 'min_samples_leaf': 11}\n",
      "0.832865 (0.055894) with: {'min_samples_split': 100, 'max_depth': 10, 'min_samples_leaf': 11}\n",
      "0.811798 (0.047087) with: {'min_samples_split': 150, 'max_depth': 10, 'min_samples_leaf': 11}\n",
      "0.811798 (0.047087) with: {'min_samples_split': 200, 'max_depth': 10, 'min_samples_leaf': 11}\n",
      "0.794944 (0.051549) with: {'min_samples_split': 10, 'max_depth': 50, 'min_samples_leaf': 2}\n",
      "0.816011 (0.050751) with: {'min_samples_split': 50, 'max_depth': 50, 'min_samples_leaf': 2}\n",
      "0.831461 (0.057149) with: {'min_samples_split': 100, 'max_depth': 50, 'min_samples_leaf': 2}\n",
      "0.811798 (0.047087) with: {'min_samples_split': 150, 'max_depth': 50, 'min_samples_leaf': 2}\n",
      "0.811798 (0.047087) with: {'min_samples_split': 200, 'max_depth': 50, 'min_samples_leaf': 2}\n",
      "0.799157 (0.052656) with: {'min_samples_split': 10, 'max_depth': 50, 'min_samples_leaf': 3}\n",
      "0.825843 (0.050610) with: {'min_samples_split': 50, 'max_depth': 50, 'min_samples_leaf': 3}\n",
      "0.830056 (0.056621) with: {'min_samples_split': 100, 'max_depth': 50, 'min_samples_leaf': 3}\n",
      "0.811798 (0.047087) with: {'min_samples_split': 150, 'max_depth': 50, 'min_samples_leaf': 3}\n",
      "0.811798 (0.047087) with: {'min_samples_split': 200, 'max_depth': 50, 'min_samples_leaf': 3}\n",
      "0.810393 (0.066993) with: {'min_samples_split': 10, 'max_depth': 50, 'min_samples_leaf': 5}\n",
      "0.823034 (0.050303) with: {'min_samples_split': 50, 'max_depth': 50, 'min_samples_leaf': 5}\n",
      "0.830056 (0.056621) with: {'min_samples_split': 100, 'max_depth': 50, 'min_samples_leaf': 5}\n",
      "0.811798 (0.047087) with: {'min_samples_split': 150, 'max_depth': 50, 'min_samples_leaf': 5}\n",
      "0.811798 (0.047087) with: {'min_samples_split': 200, 'max_depth': 50, 'min_samples_leaf': 5}\n",
      "0.807584 (0.062687) with: {'min_samples_split': 10, 'max_depth': 50, 'min_samples_leaf': 7}\n",
      "0.818820 (0.048443) with: {'min_samples_split': 50, 'max_depth': 50, 'min_samples_leaf': 7}\n",
      "0.831461 (0.057149) with: {'min_samples_split': 100, 'max_depth': 50, 'min_samples_leaf': 7}\n",
      "0.811798 (0.047087) with: {'min_samples_split': 150, 'max_depth': 50, 'min_samples_leaf': 7}\n",
      "0.811798 (0.047087) with: {'min_samples_split': 200, 'max_depth': 50, 'min_samples_leaf': 7}\n",
      "0.804775 (0.055028) with: {'min_samples_split': 10, 'max_depth': 50, 'min_samples_leaf': 9}\n",
      "0.814607 (0.054178) with: {'min_samples_split': 50, 'max_depth': 50, 'min_samples_leaf': 9}\n",
      "0.832865 (0.055894) with: {'min_samples_split': 100, 'max_depth': 50, 'min_samples_leaf': 9}\n",
      "0.811798 (0.047087) with: {'min_samples_split': 150, 'max_depth': 50, 'min_samples_leaf': 9}\n",
      "0.811798 (0.047087) with: {'min_samples_split': 200, 'max_depth': 50, 'min_samples_leaf': 9}\n",
      "0.806180 (0.048818) with: {'min_samples_split': 10, 'max_depth': 50, 'min_samples_leaf': 11}\n",
      "0.816011 (0.056190) with: {'min_samples_split': 50, 'max_depth': 50, 'min_samples_leaf': 11}\n",
      "0.832865 (0.055894) with: {'min_samples_split': 100, 'max_depth': 50, 'min_samples_leaf': 11}\n",
      "0.811798 (0.047087) with: {'min_samples_split': 150, 'max_depth': 50, 'min_samples_leaf': 11}\n",
      "0.811798 (0.047087) with: {'min_samples_split': 200, 'max_depth': 50, 'min_samples_leaf': 11}\n",
      "0.793539 (0.049149) with: {'min_samples_split': 10, 'max_depth': 100, 'min_samples_leaf': 2}\n",
      "0.816011 (0.050360) with: {'min_samples_split': 50, 'max_depth': 100, 'min_samples_leaf': 2}\n",
      "0.831461 (0.057149) with: {'min_samples_split': 100, 'max_depth': 100, 'min_samples_leaf': 2}\n",
      "0.811798 (0.047087) with: {'min_samples_split': 150, 'max_depth': 100, 'min_samples_leaf': 2}\n",
      "0.811798 (0.047087) with: {'min_samples_split': 200, 'max_depth': 100, 'min_samples_leaf': 2}\n",
      "0.796348 (0.054157) with: {'min_samples_split': 10, 'max_depth': 100, 'min_samples_leaf': 3}\n",
      "0.827247 (0.051315) with: {'min_samples_split': 50, 'max_depth': 100, 'min_samples_leaf': 3}\n",
      "0.831461 (0.057149) with: {'min_samples_split': 100, 'max_depth': 100, 'min_samples_leaf': 3}\n",
      "0.811798 (0.047087) with: {'min_samples_split': 150, 'max_depth': 100, 'min_samples_leaf': 3}\n",
      "0.811798 (0.047087) with: {'min_samples_split': 200, 'max_depth': 100, 'min_samples_leaf': 3}\n",
      "0.808989 (0.066990) with: {'min_samples_split': 10, 'max_depth': 100, 'min_samples_leaf': 5}\n",
      "0.823034 (0.050303) with: {'min_samples_split': 50, 'max_depth': 100, 'min_samples_leaf': 5}\n",
      "0.831461 (0.057149) with: {'min_samples_split': 100, 'max_depth': 100, 'min_samples_leaf': 5}\n",
      "0.811798 (0.047087) with: {'min_samples_split': 150, 'max_depth': 100, 'min_samples_leaf': 5}\n",
      "0.811798 (0.047087) with: {'min_samples_split': 200, 'max_depth': 100, 'min_samples_leaf': 5}\n",
      "0.804775 (0.062204) with: {'min_samples_split': 10, 'max_depth': 100, 'min_samples_leaf': 7}\n",
      "0.820225 (0.049379) with: {'min_samples_split': 50, 'max_depth': 100, 'min_samples_leaf': 7}\n",
      "0.831461 (0.057149) with: {'min_samples_split': 100, 'max_depth': 100, 'min_samples_leaf': 7}\n",
      "0.811798 (0.047087) with: {'min_samples_split': 150, 'max_depth': 100, 'min_samples_leaf': 7}\n",
      "0.811798 (0.047087) with: {'min_samples_split': 200, 'max_depth': 100, 'min_samples_leaf': 7}\n",
      "0.804775 (0.055028) with: {'min_samples_split': 10, 'max_depth': 100, 'min_samples_leaf': 9}\n",
      "0.814607 (0.054178) with: {'min_samples_split': 50, 'max_depth': 100, 'min_samples_leaf': 9}\n",
      "0.832865 (0.055894) with: {'min_samples_split': 100, 'max_depth': 100, 'min_samples_leaf': 9}\n",
      "0.811798 (0.047087) with: {'min_samples_split': 150, 'max_depth': 100, 'min_samples_leaf': 9}\n",
      "0.811798 (0.047087) with: {'min_samples_split': 200, 'max_depth': 100, 'min_samples_leaf': 9}\n",
      "0.806180 (0.048818) with: {'min_samples_split': 10, 'max_depth': 100, 'min_samples_leaf': 11}\n",
      "0.816011 (0.056190) with: {'min_samples_split': 50, 'max_depth': 100, 'min_samples_leaf': 11}\n",
      "0.832865 (0.055894) with: {'min_samples_split': 100, 'max_depth': 100, 'min_samples_leaf': 11}\n",
      "0.811798 (0.047087) with: {'min_samples_split': 150, 'max_depth': 100, 'min_samples_leaf': 11}\n",
      "0.811798 (0.047087) with: {'min_samples_split': 200, 'max_depth': 100, 'min_samples_leaf': 11}\n",
      "0.793539 (0.051122) with: {'min_samples_split': 10, 'max_depth': 150, 'min_samples_leaf': 2}\n",
      "0.817416 (0.051338) with: {'min_samples_split': 50, 'max_depth': 150, 'min_samples_leaf': 2}\n",
      "0.830056 (0.056621) with: {'min_samples_split': 100, 'max_depth': 150, 'min_samples_leaf': 2}\n",
      "0.811798 (0.047087) with: {'min_samples_split': 150, 'max_depth': 150, 'min_samples_leaf': 2}\n",
      "0.811798 (0.047087) with: {'min_samples_split': 200, 'max_depth': 150, 'min_samples_leaf': 2}\n",
      "0.796348 (0.053421) with: {'min_samples_split': 10, 'max_depth': 150, 'min_samples_leaf': 3}\n",
      "0.827247 (0.051315) with: {'min_samples_split': 50, 'max_depth': 150, 'min_samples_leaf': 3}\n",
      "0.831461 (0.057149) with: {'min_samples_split': 100, 'max_depth': 150, 'min_samples_leaf': 3}\n",
      "0.811798 (0.047087) with: {'min_samples_split': 150, 'max_depth': 150, 'min_samples_leaf': 3}\n",
      "0.811798 (0.047087) with: {'min_samples_split': 200, 'max_depth': 150, 'min_samples_leaf': 3}\n",
      "0.808989 (0.066990) with: {'min_samples_split': 10, 'max_depth': 150, 'min_samples_leaf': 5}\n",
      "0.823034 (0.050303) with: {'min_samples_split': 50, 'max_depth': 150, 'min_samples_leaf': 5}\n",
      "0.831461 (0.057149) with: {'min_samples_split': 100, 'max_depth': 150, 'min_samples_leaf': 5}\n",
      "0.811798 (0.047087) with: {'min_samples_split': 150, 'max_depth': 150, 'min_samples_leaf': 5}\n",
      "0.811798 (0.047087) with: {'min_samples_split': 200, 'max_depth': 150, 'min_samples_leaf': 5}\n",
      "0.803371 (0.057782) with: {'min_samples_split': 10, 'max_depth': 150, 'min_samples_leaf': 7}\n",
      "0.818820 (0.048443) with: {'min_samples_split': 50, 'max_depth': 150, 'min_samples_leaf': 7}\n",
      "0.830056 (0.056621) with: {'min_samples_split': 100, 'max_depth': 150, 'min_samples_leaf': 7}\n",
      "0.811798 (0.047087) with: {'min_samples_split': 150, 'max_depth': 150, 'min_samples_leaf': 7}\n",
      "0.811798 (0.047087) with: {'min_samples_split': 200, 'max_depth': 150, 'min_samples_leaf': 7}\n",
      "0.804775 (0.055028) with: {'min_samples_split': 10, 'max_depth': 150, 'min_samples_leaf': 9}\n",
      "0.814607 (0.054178) with: {'min_samples_split': 50, 'max_depth': 150, 'min_samples_leaf': 9}\n",
      "0.832865 (0.055894) with: {'min_samples_split': 100, 'max_depth': 150, 'min_samples_leaf': 9}\n",
      "0.811798 (0.047087) with: {'min_samples_split': 150, 'max_depth': 150, 'min_samples_leaf': 9}\n",
      "0.811798 (0.047087) with: {'min_samples_split': 200, 'max_depth': 150, 'min_samples_leaf': 9}\n",
      "0.806180 (0.048818) with: {'min_samples_split': 10, 'max_depth': 150, 'min_samples_leaf': 11}\n",
      "0.816011 (0.056190) with: {'min_samples_split': 50, 'max_depth': 150, 'min_samples_leaf': 11}\n",
      "0.832865 (0.055894) with: {'min_samples_split': 100, 'max_depth': 150, 'min_samples_leaf': 11}\n",
      "0.811798 (0.047087) with: {'min_samples_split': 150, 'max_depth': 150, 'min_samples_leaf': 11}\n",
      "0.811798 (0.047087) with: {'min_samples_split': 200, 'max_depth': 150, 'min_samples_leaf': 11}\n",
      "0.790730 (0.048125) with: {'min_samples_split': 10, 'max_depth': 200, 'min_samples_leaf': 2}\n",
      "0.816011 (0.050751) with: {'min_samples_split': 50, 'max_depth': 200, 'min_samples_leaf': 2}\n",
      "0.831461 (0.057149) with: {'min_samples_split': 100, 'max_depth': 200, 'min_samples_leaf': 2}\n",
      "0.811798 (0.047087) with: {'min_samples_split': 150, 'max_depth': 200, 'min_samples_leaf': 2}\n",
      "0.811798 (0.047087) with: {'min_samples_split': 200, 'max_depth': 200, 'min_samples_leaf': 2}\n",
      "0.801966 (0.057097) with: {'min_samples_split': 10, 'max_depth': 200, 'min_samples_leaf': 3}\n",
      "0.827247 (0.051315) with: {'min_samples_split': 50, 'max_depth': 200, 'min_samples_leaf': 3}\n",
      "0.830056 (0.056621) with: {'min_samples_split': 100, 'max_depth': 200, 'min_samples_leaf': 3}\n",
      "0.811798 (0.047087) with: {'min_samples_split': 150, 'max_depth': 200, 'min_samples_leaf': 3}\n",
      "0.811798 (0.047087) with: {'min_samples_split': 200, 'max_depth': 200, 'min_samples_leaf': 3}\n",
      "0.808989 (0.066990) with: {'min_samples_split': 10, 'max_depth': 200, 'min_samples_leaf': 5}\n",
      "0.824438 (0.051089) with: {'min_samples_split': 50, 'max_depth': 200, 'min_samples_leaf': 5}\n",
      "0.831461 (0.057149) with: {'min_samples_split': 100, 'max_depth': 200, 'min_samples_leaf': 5}\n",
      "0.811798 (0.047087) with: {'min_samples_split': 150, 'max_depth': 200, 'min_samples_leaf': 5}\n",
      "0.811798 (0.047087) with: {'min_samples_split': 200, 'max_depth': 200, 'min_samples_leaf': 5}\n",
      "0.807584 (0.062687) with: {'min_samples_split': 10, 'max_depth': 200, 'min_samples_leaf': 7}\n",
      "0.820225 (0.049379) with: {'min_samples_split': 50, 'max_depth': 200, 'min_samples_leaf': 7}\n",
      "0.830056 (0.056621) with: {'min_samples_split': 100, 'max_depth': 200, 'min_samples_leaf': 7}\n",
      "0.811798 (0.047087) with: {'min_samples_split': 150, 'max_depth': 200, 'min_samples_leaf': 7}\n",
      "0.811798 (0.047087) with: {'min_samples_split': 200, 'max_depth': 200, 'min_samples_leaf': 7}\n",
      "0.804775 (0.055028) with: {'min_samples_split': 10, 'max_depth': 200, 'min_samples_leaf': 9}\n",
      "0.814607 (0.054178) with: {'min_samples_split': 50, 'max_depth': 200, 'min_samples_leaf': 9}\n",
      "0.832865 (0.055894) with: {'min_samples_split': 100, 'max_depth': 200, 'min_samples_leaf': 9}\n",
      "0.811798 (0.047087) with: {'min_samples_split': 150, 'max_depth': 200, 'min_samples_leaf': 9}\n",
      "0.811798 (0.047087) with: {'min_samples_split': 200, 'max_depth': 200, 'min_samples_leaf': 9}\n",
      "0.806180 (0.048818) with: {'min_samples_split': 10, 'max_depth': 200, 'min_samples_leaf': 11}\n",
      "0.816011 (0.056190) with: {'min_samples_split': 50, 'max_depth': 200, 'min_samples_leaf': 11}\n",
      "0.832865 (0.055894) with: {'min_samples_split': 100, 'max_depth': 200, 'min_samples_leaf': 11}\n",
      "0.811798 (0.047087) with: {'min_samples_split': 150, 'max_depth': 200, 'min_samples_leaf': 11}\n",
      "0.811798 (0.047087) with: {'min_samples_split': 200, 'max_depth': 200, 'min_samples_leaf': 11}\n"
     ]
    }
   ],
   "source": [
    "# Tuning CART\n",
    "'''\n",
    "    best parameters \n",
    "    min_samples_split = 100\n",
    "    max_depth = 10\n",
    "    min_samples_leaf = 9\n",
    "'''\n",
    "\n",
    "min_samples_splits = np.array([10, 50, 100, 150, 200])\n",
    "min_samples_leafs = np.array([2, 3, 5, 7, 9, 11])\n",
    "max_depths = np.array([10, 50, 100, 150, 200])\n",
    "\n",
    "param_grid = dict(min_samples_split=min_samples_splits, min_samples_leaf=min_samples_leafs, max_depth=max_depths)\n",
    "\n",
    "model = DecisionTreeClassifier()\n",
    "kfold = KFold(n_splits=10, random_state=seed)\n",
    "\n",
    "grid = GridSearchCV(estimator=model, param_grid=param_grid, cv=kfold, scoring=scoring)\n",
    "\n",
    "grid_result = grid.fit(X_train, Y_train)\n",
    "\n",
    "print(\"Best: %f using %s\" % (grid_result.best_score_, grid_result.best_params_))\n",
    "\n",
    "means = grid_result.cv_results_['mean_test_score']\n",
    "stds = grid_result.cv_results_['std_test_score']\n",
    "params = grid_result.cv_results_['params']\n",
    "\n",
    "for mean, stdev, param in zip(means, stds, params):\n",
    "    print(\"%f (%f) with: %r\" % (mean, stdev, param))"
   ]
  },
  {
   "cell_type": "code",
   "execution_count": 31,
   "metadata": {
    "collapsed": false
   },
   "outputs": [
    {
     "name": "stdout",
     "output_type": "stream",
     "text": [
      "Best: 0.830986 using {'kernel': 'sigmoid', 'C': 0.3}\n",
      "0.823944 (0.041714) with: {'kernel': 'linear', 'C': 0.1}\n",
      "0.697183 (0.036694) with: {'kernel': 'poly', 'C': 0.1}\n",
      "0.683099 (0.017594) with: {'kernel': 'rbf', 'C': 0.1}\n",
      "0.697183 (0.035307) with: {'kernel': 'sigmoid', 'C': 0.1}\n",
      "0.823944 (0.041714) with: {'kernel': 'linear', 'C': 0.3}\n",
      "0.711268 (0.033026) with: {'kernel': 'poly', 'C': 0.3}\n",
      "0.809859 (0.015618) with: {'kernel': 'rbf', 'C': 0.3}\n",
      "0.830986 (0.043847) with: {'kernel': 'sigmoid', 'C': 0.3}\n",
      "0.823944 (0.041714) with: {'kernel': 'linear', 'C': 0.5}\n",
      "0.711268 (0.033026) with: {'kernel': 'poly', 'C': 0.5}\n",
      "0.809859 (0.015618) with: {'kernel': 'rbf', 'C': 0.5}\n",
      "0.816901 (0.047807) with: {'kernel': 'sigmoid', 'C': 0.5}\n",
      "0.823944 (0.041714) with: {'kernel': 'linear', 'C': 0.7}\n",
      "0.739437 (0.023852) with: {'kernel': 'poly', 'C': 0.7}\n",
      "0.823944 (0.041714) with: {'kernel': 'rbf', 'C': 0.7}\n",
      "0.802817 (0.034592) with: {'kernel': 'sigmoid', 'C': 0.7}\n",
      "0.823944 (0.041714) with: {'kernel': 'linear', 'C': 0.9}\n",
      "0.746479 (0.015098) with: {'kernel': 'poly', 'C': 0.9}\n",
      "0.816901 (0.050845) with: {'kernel': 'rbf', 'C': 0.9}\n",
      "0.760563 (0.035435) with: {'kernel': 'sigmoid', 'C': 0.9}\n",
      "0.823944 (0.041714) with: {'kernel': 'linear', 'C': 1.0}\n",
      "0.753521 (0.024547) with: {'kernel': 'poly', 'C': 1.0}\n",
      "0.816901 (0.050845) with: {'kernel': 'rbf', 'C': 1.0}\n",
      "0.760563 (0.035435) with: {'kernel': 'sigmoid', 'C': 1.0}\n",
      "0.823944 (0.041714) with: {'kernel': 'linear', 'C': 1.3}\n",
      "0.781690 (0.026927) with: {'kernel': 'poly', 'C': 1.3}\n",
      "0.823944 (0.041714) with: {'kernel': 'rbf', 'C': 1.3}\n",
      "0.760563 (0.043895) with: {'kernel': 'sigmoid', 'C': 1.3}\n",
      "0.823944 (0.041714) with: {'kernel': 'linear', 'C': 1.5}\n",
      "0.781690 (0.026927) with: {'kernel': 'poly', 'C': 1.5}\n",
      "0.823944 (0.041714) with: {'kernel': 'rbf', 'C': 1.5}\n",
      "0.753521 (0.053386) with: {'kernel': 'sigmoid', 'C': 1.5}\n",
      "0.823944 (0.041714) with: {'kernel': 'linear', 'C': 1.7}\n",
      "0.781690 (0.035481) with: {'kernel': 'poly', 'C': 1.7}\n",
      "0.816901 (0.041928) with: {'kernel': 'rbf', 'C': 1.7}\n",
      "0.753521 (0.053386) with: {'kernel': 'sigmoid', 'C': 1.7}\n",
      "0.823944 (0.041714) with: {'kernel': 'linear', 'C': 2.0}\n",
      "0.795775 (0.068854) with: {'kernel': 'poly', 'C': 2.0}\n",
      "0.816901 (0.041928) with: {'kernel': 'rbf', 'C': 2.0}\n",
      "0.753521 (0.036766) with: {'kernel': 'sigmoid', 'C': 2.0}\n"
     ]
    }
   ],
   "source": [
    "'''\n",
    "    Best parameters for SVM\n",
    "    kernel = sigmoid\n",
    "    C = 0.3\n",
    "'''\n",
    "\n",
    "drop_set = 0.8\n",
    "\n",
    "X_svm ,_, Y_svm, _ = train_test_split(X_train, Y_train, test_size=drop_set, random_state=seed)\n",
    "\n",
    "scaler = StandardScaler().fit(X_svm)\n",
    "rescaledX = scaler.transform(X_svm)\n",
    "\n",
    "c_values = [0.1, 0.3, 0.5, 0.7, 0.9, 1.0, 1.3, 1.5, 1.7, 2.0]\n",
    "kernel_values = ['linear', 'poly', 'rbf', 'sigmoid']\n",
    "\n",
    "param_grid = dict(C=c_values, kernel=kernel_values)\n",
    "\n",
    "model = SVC()\n",
    "kfold = KFold(n_splits=3, random_state=seed)\n",
    "\n",
    "grid = GridSearchCV(estimator=model, param_grid=param_grid, cv=kfold, scoring=scoring)\n",
    "\n",
    "grid_result = grid.fit(rescaledX, Y_svm)\n",
    "\n",
    "print(\"Best: %f using %s\" % (grid_result.best_score_, grid_result.best_params_))\n",
    "\n",
    "means = grid_result.cv_results_['mean_test_score']\n",
    "stds = grid_result.cv_results_['std_test_score']\n",
    "params = grid_result.cv_results_['params']\n",
    "\n",
    "for mean, stdev, param in zip(means, stds, params):\n",
    "    print(\"%f (%f) with: %r\" % (mean, stdev, param))"
   ]
  },
  {
   "cell_type": "code",
   "execution_count": 32,
   "metadata": {
    "collapsed": false
   },
   "outputs": [
    {
     "name": "stdout",
     "output_type": "stream",
     "text": [
      "0.748603351955\n",
      "[[93 17]\n",
      " [28 41]]\n",
      "             precision    recall  f1-score   support\n",
      "\n",
      "          0       0.77      0.85      0.81       110\n",
      "          1       0.71      0.59      0.65        69\n",
      "\n",
      "avg / total       0.74      0.75      0.74       179\n",
      "\n"
     ]
    }
   ],
   "source": [
    "#Final Validation of CART\n",
    "scaler = StandardScaler().fit(X_train)\n",
    "rescaledX = scaler.transform(X_train)\n",
    "\n",
    "model = DecisionTreeClassifier(min_samples_split = 100, max_depth = 10, min_samples_leaf = 9)\n",
    "model.fit(rescaledX, Y_train)\n",
    "\n",
    "rescaledValidationX = scaler.transform(X_validation)\n",
    "predict = model.predict(rescaledValidationX)\n",
    "\n",
    "\n",
    "print(accuracy_score(Y_validation, predict))\n",
    "print(confusion_matrix(Y_validation, predict))\n",
    "print(classification_report(Y_validation, predict))"
   ]
  },
  {
   "cell_type": "code",
   "execution_count": 33,
   "metadata": {
    "collapsed": false
   },
   "outputs": [
    {
     "name": "stdout",
     "output_type": "stream",
     "text": [
      "0.759776536313\n",
      "[[95 15]\n",
      " [28 41]]\n",
      "             precision    recall  f1-score   support\n",
      "\n",
      "          0       0.77      0.86      0.82       110\n",
      "          1       0.73      0.59      0.66        69\n",
      "\n",
      "avg / total       0.76      0.76      0.75       179\n",
      "\n"
     ]
    }
   ],
   "source": [
    "# Final Validation of SVM\n",
    "# pca = PCA(n_components=4)\n",
    "\n",
    "\n",
    "model = Pipeline([\n",
    "        ('SVM', SVC())])\n",
    "model.fit(rescaledX, Y_train)\n",
    "\n",
    "predict = model.predict(rescaledValidationX)\n",
    "\n",
    "print(accuracy_score(Y_validation, predict))\n",
    "print(confusion_matrix(Y_validation, predict))\n",
    "print(classification_report(Y_validation, predict))\n"
   ]
  },
  {
   "cell_type": "code",
   "execution_count": 34,
   "metadata": {
    "collapsed": false
   },
   "outputs": [
    {
     "name": "stdout",
     "output_type": "stream",
     "text": [
      "0.77094972067\n",
      "[[94 16]\n",
      " [25 44]]\n",
      "             precision    recall  f1-score   support\n",
      "\n",
      "          0       0.79      0.85      0.82       110\n",
      "          1       0.73      0.64      0.68        69\n",
      "\n",
      "avg / total       0.77      0.77      0.77       179\n",
      "\n"
     ]
    }
   ],
   "source": [
    "model = RandomForestClassifier()\n",
    "model.fit(rescaledX, Y_train)\n",
    "\n",
    "predict = model.predict(rescaledValidationX)\n",
    "\n",
    "print(accuracy_score(Y_validation, predict))\n",
    "print(confusion_matrix(Y_validation, predict))\n",
    "print(classification_report(Y_validation, predict))"
   ]
  },
  {
   "cell_type": "markdown",
   "metadata": {},
   "source": [
    "This concludes our ML workflow for the titanic dataset. We achieved a final accurary of 77% by using a Random Forest classifier. \n",
    "\n",
    "There is still a lot that can be done in order to improve the accuracy of the model. We can perform feature engineering inorder to deal with the correlated variables and extract better information from the feature we chose to drop at the start."
   ]
  }
 ],
 "metadata": {
  "anaconda-cloud": {},
  "kernelspec": {
   "display_name": "Python 2",
   "language": "python",
   "name": "python2"
  },
  "language_info": {
   "codemirror_mode": {
    "name": "ipython",
    "version": 2
   },
   "file_extension": ".py",
   "mimetype": "text/x-python",
   "name": "python",
   "nbconvert_exporter": "python",
   "pygments_lexer": "ipython2",
   "version": "2.7.12+"
  }
 },
 "nbformat": 4,
 "nbformat_minor": 1
}
